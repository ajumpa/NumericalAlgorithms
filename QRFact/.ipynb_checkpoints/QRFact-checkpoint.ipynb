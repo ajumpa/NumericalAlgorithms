{
 "cells": [
  {
   "cell_type": "markdown",
   "metadata": {},
   "source": [
    "# QR Factorization"
   ]
  },
  {
   "cell_type": "markdown",
   "metadata": {},
   "source": [
    "The central program computes a QR factorization of a matrix A, where Q is the product of several orthogonal matrices but is never itself computed. \n",
    "\n",
    "There should be separate programs to compute the individual transformations and the result of applying them row-wise ( you can think of it as a column-wise factorization of transpose of A).\n",
    "\n",
    "Another program should use the QR factors to compute solutions of linear least squares problems.\n",
    "\n",
    "The latter requires a program to perform back-substitution, which should be done row-wise.\n",
    "\n",
    "Do not assume that A has full column rank;"
   ]
  },
  {
   "cell_type": "markdown",
   "metadata": {},
   "source": [
    "$$\n",
    "\\begin{aligned}\n",
    "A \\vec{x} = \\vec{b} \\\\ \\\\\n",
    "A = Q R \\implies R\\vec{x} = Q^\\top \\vec{b} \\\\\n",
    "\\end{aligned}\n",
    "$$"
   ]
  },
  {
   "cell_type": "code",
   "execution_count": 1,
   "metadata": {},
   "outputs": [],
   "source": [
    "import numpy as np\n",
    "import pynla as nla"
   ]
  },
  {
   "cell_type": "code",
   "execution_count": null,
   "metadata": {},
   "outputs": [],
   "source": [
    "def QRFactorize(A):\n",
    "\n",
    "  n, m = np.shape(A)\n",
    "  Q = np.eye(n)\n",
    "  R = A\n",
    "\n",
    "  return n, m"
   ]
  },
  {
   "cell_type": "code",
   "execution_count": null,
   "metadata": {},
   "outputs": [],
   "source": []
  }
 ],
 "metadata": {
  "kernelspec": {
   "display_name": "Python 3 (ipykernel)",
   "language": "python",
   "name": "python3"
  },
  "language_info": {
   "codemirror_mode": {
    "name": "ipython",
    "version": 3
   },
   "file_extension": ".py",
   "mimetype": "text/x-python",
   "name": "python",
   "nbconvert_exporter": "python",
   "pygments_lexer": "ipython3",
   "version": "3.10.12"
  }
 },
 "nbformat": 4,
 "nbformat_minor": 4
}
