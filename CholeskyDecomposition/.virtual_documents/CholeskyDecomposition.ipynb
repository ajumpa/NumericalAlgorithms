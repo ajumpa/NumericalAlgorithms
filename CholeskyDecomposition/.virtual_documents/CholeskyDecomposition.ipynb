


import numpy as np
from matplotlib import pyplot as plt
from matplotlib import style


"""
Eigenvalues of SPD matrix are > 0
Note that this code does not ALWAYS produce an positive definite matrix
Run until matrix is positive definite
"""
def create_spd_matrix(n, max_attempts=100):
    i = 0;
    while (i < max_attempts):
        A = np.random.rand(n,n)
        M = A @ A.T
        eigenvalues, eigenvectors = np.linalg.eig(M)
        if np.all(eigenvalues > 0):
            return M

    print("Failed to generate SPD matrix in {max_steps}")
    return None

"""
Test if 2x2 matrix is symmetric
"""
def symmetric_2x2(A):
    return A[1,0] == A[0,1]

"""
Test if 3x3 matrix is symmetric
"""
def symmetric_3x3_vectorized(A):
    return ( symmetric_2x2(A[0:2,0:2]) 
            and symmetric_2x2(A[1:3, 1:3]) 
            and A[2,0] == A[0,2] )
    
# TODO!
def symmetric_nxn(A, n):
    if (n == 2):
        return symmetric_2x2(A)
    return True

def my_cholesky_decomposition(A, n):

    # Matrix must be symmetric
    if symmetric_nxn(A, n) == False:
        return None
    
    L = np.zeros((n,n))

    L[0,0] = np.sqrt(A[0,0])
    for i in range(1,n):
        L[i,0] = A[i,0] / L[0,0]
        for j in range(0, i+1):
            
            sum = A[i,j]
            
            for k in range (0, j):
                sum -= L[i,k] * L[j,k]

            L[i,j] = ( np.sqrt(sum) )if i == j else ( sum/L[j,j] )
    return L
    


n = 100
M = create_spd_matrix(n, max_attempts=200)

print(M)
print()
plt.imshow(M, cmap='jet')
plt.show()


C_0 = np.linalg.cholesky(M)
C_1 = my_cholesky_decomposition(M, n)


E = C_0 - C_1


print(E[np.where(E > 0.0000000001)])



'''
Can we plot error wrt array size?

Error = numpy cholesky - my cholesky

'''


N = [i*10 ** exp for exp in range(1, 9) for i in [1,5]]

for n in N:
    M = create_spd_matrix(n, max_attempts=200)



